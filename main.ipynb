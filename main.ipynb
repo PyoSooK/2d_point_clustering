{
 "cells": [
  {
   "cell_type": "code",
   "execution_count": null,
   "id": "e20a0605-3c7c-4e11-b746-d61b54efcf71",
   "metadata": {},
   "outputs": [],
   "source": [
    "import numpy as np\n",
    "import matplotlib.pyplot as plt"
   ]
  },
  {
   "cell_type": "code",
   "execution_count": null,
   "id": "d5ce6d68-1285-4ae7-b1ff-d2f7f1900c90",
   "metadata": {},
   "outputs": [],
   "source": [
    "# 랜덤 데이터 생성\n",
    "number = list(range(0, 401))\n",
    "x_coordinate = np.random.choice(number, 200, replace=False) # 200개 좌표값 생성 (비복원 추출 사용)\n",
    "y_coordinate = np.random.choice(number, 200, replace=False)\n",
    "coordinate = (np.vstack((x_coordinate, y_coordinate))).T "
   ]
  },
  {
   "cell_type": "code",
   "execution_count": null,
   "id": "08745e70-21bd-402a-ae10-3d7013325a36",
   "metadata": {},
   "outputs": [],
   "source": [
    "# 좌표값 차트 표시\n",
    "plt.scatter(coordinate[:, 0], coordinate[:, 1], s=20)\n",
    "plt.show()"
   ]
  },
  {
   "cell_type": "code",
   "execution_count": null,
   "id": "34c88090-4c4d-4c63-8f5e-14cc1a64dfde",
   "metadata": {},
   "outputs": [],
   "source": [
    "# 두 그룹으로 나누기\n",
    "index_number = list(range(0, 200))\n",
    "red_indices = np.random.choice(index_number, 100, replace=False)\n",
    "red_group = coordinate[red_indices]\n",
    "blue_group = np.delete(coordinate, red_indices, axis=0)"
   ]
  },
  {
   "cell_type": "code",
   "execution_count": null,
   "id": "82db9287-1fcc-4e8e-9b1b-c122a20d3b10",
   "metadata": {},
   "outputs": [],
   "source": [
    "# 두 그룹의 평균값\n",
    "red_group_avg = red_group.mean(axis=0, dtype=float)\n",
    "blue_group_avg = blue_group.mean(axis=0, dtype=float)"
   ]
  },
  {
   "cell_type": "code",
   "execution_count": null,
   "id": "b9b43e7d-5309-48d5-83ce-bb9479705e6e",
   "metadata": {},
   "outputs": [],
   "source": [
    "# 현재 좌표값들과 평균 차트 표시\n",
    "plt.scatter(coordinate[:, 0], coordinate[:, 1], edgecolor='grey', s = 20)\n",
    "plt.scatter(red_group_avg[0], red_group_avg[1], marker='*', c='red', s = 100)\n",
    "plt.scatter(blue_group_avg[0], blue_group_avg[1], marker='*', c='blue', s = 100)\n",
    "plt.show()"
   ]
  },
  {
   "cell_type": "code",
   "execution_count": null,
   "id": "0970a08e-cebe-4a69-924c-93249e7c9812",
   "metadata": {},
   "outputs": [],
   "source": [
    "# 거리가 더 가까운 그룹으로\n",
    "while True:\n",
    "    red_group_distances = np.linalg.norm(coordinate - red_group_avg, axis=1)\n",
    "    blue_group_distances = np.linalg.norm(coordinate - blue_group_avg, axis=1)\n",
    "    new_red_group = coordinate[red_group_distances < blue_group_distances] \n",
    "    new_blue_group = coordinate[red_group_distances >= blue_group_distances]\n",
    "\n",
    "    new_red_group_avg = new_red_group.mean(axis=0, dtype=float)\n",
    "    new_blue_group_avg = new_blue_group.mean(axis=0, dtype=float)\n",
    "\n",
    "    # 그래프 초기화 및 업데이트\n",
    "    plt.clf()\n",
    "    plt.scatter(new_red_group[:, 0], new_red_group[:, 1], c='red', s = 20)\n",
    "    plt.scatter(new_blue_group[:, 0], new_blue_group[:, 1], c='blue', s = 20)\n",
    "    plt.scatter(new_red_group_avg[0], new_red_group_avg[1], marker='*', c='red', s = 100)\n",
    "    plt.scatter(new_blue_group_avg[0], new_blue_group_avg[1], marker='*', c='blue', s = 100)\n",
    "    plt.show()\n",
    "\n",
    "    if (np.allclose(red_group_avg, new_red_group_avg)) and (np.allclose(blue_group_avg, new_blue_group_avg)):\n",
    "        print(\"Convergence reached.\")\n",
    "        break\n",
    "    else :\n",
    "        red_group_avg = new_red_group_avg[:]\n",
    "        blue_group_avg = new_blue_group_avg[:]"
   ]
  }
 ],
 "metadata": {
  "kernelspec": {
   "display_name": "Python 3 (ipykernel)",
   "language": "python",
   "name": "python3"
  },
  "language_info": {
   "codemirror_mode": {
    "name": "ipython",
    "version": 3
   },
   "file_extension": ".py",
   "mimetype": "text/x-python",
   "name": "python",
   "nbconvert_exporter": "python",
   "pygments_lexer": "ipython3",
   "version": "3.9.18"
  }
 },
 "nbformat": 4,
 "nbformat_minor": 5
}
